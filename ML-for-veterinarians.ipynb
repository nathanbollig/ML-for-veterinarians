{
 "cells": [
  {
   "cell_type": "markdown",
   "metadata": {},
   "source": [
    "# A Machine Learning Tutorial for Veterinarians"
   ]
  },
  {
   "cell_type": "markdown",
   "metadata": {},
   "source": [
    "***Nathan Bollig, DVM***  \n",
    "Department of Computer Sciences, University of Wisconsin-Madison, Madison, WI  \n",
    "Department of Pathobiological Sciences, School of Veterinary Medicine, University of Wisconsin-Madison, Madison, WI"
   ]
  },
  {
   "cell_type": "markdown",
   "metadata": {},
   "source": [
    "## Introduction"
   ]
  },
  {
   "cell_type": "markdown",
   "metadata": {},
   "source": [
    "This notebook documents setup information and code used for results to be presented at the Fetch dvm360 conference in Kansas City, MO in August, 2020. When available, a link to the proceedings paper and presentation slides will be included in this github repository. Please reach out with any comments, questions, or questions at nbollig (at) wisc (dot) edu."
   ]
  },
  {
   "cell_type": "markdown",
   "metadata": {},
   "source": [
    "## Reading in data"
   ]
  },
  {
   "cell_type": "markdown",
   "metadata": {},
   "source": [
    "We start by importing most of the modules that are needed for this entire project."
   ]
  },
  {
   "cell_type": "code",
   "execution_count": 2,
   "metadata": {},
   "outputs": [],
   "source": [
    "import pandas as pd\n",
    "import numpy as np\n",
    "import os\n",
    "import time\n",
    "import pickle\n",
    "from matplotlib import pyplot as plt\n",
    "\n",
    "from sklearn.model_selection import StratifiedKFold\n",
    "from sklearn.metrics import f1_score\n",
    "from sklearn.metrics import accuracy_score\n",
    "from sklearn.metrics import make_scorer\n",
    "from sklearn.metrics import precision_recall_curve\n",
    "from sklearn.metrics import auc as auc_func\n",
    "\n",
    "from sklearn import svm\n",
    "from sklearn.ensemble import RandomForestClassifier\n",
    "from sklearn import tree\n",
    "from sklearn.ensemble import BaggingClassifier\n",
    "from sklearn.ensemble import GradientBoostingClassifier\n",
    "from sklearn.linear_model import LogisticRegression\n",
    "\n",
    "from sklearn.model_selection import GridSearchCV\n",
    "from sklearn.utils import resample\n",
    "\n",
    "from sklearn.preprocessing import LabelEncoder\n",
    "from datetime import datetime\n",
    "from sklearn.impute import SimpleImputer\n",
    "\n",
    "from pathlib import Path\n",
    "\n",
    "seed = 1990\n",
    "np.random.seed(seed)\n",
    "pd.options.mode.chained_assignment = None"
   ]
  },
  {
   "cell_type": "markdown",
   "metadata": {},
   "source": [
    "We will begin by loading in the raw data set. (Note that some features have been previously removed or encoded numerically for confidentiality.) We will perform some essential data preparation steps including: encoding categorical features, some formatting, and imputation of missing values."
   ]
  },
  {
   "cell_type": "code",
   "execution_count": 3,
   "metadata": {},
   "outputs": [],
   "source": [
    "def prep_data(data_dir=\"\"):\n",
    "\n",
    "    # Read in data set\n",
    "    if data_dir != \"\":\n",
    "        file = os.path.join(data_dir, \"data.csv\")\n",
    "    else:\n",
    "        file = \"data.csv\"\n",
    "        \n",
    "    data = pd.read_csv(file)\n",
    "    \n",
    "    # Create dictionary to store category mappings\n",
    "    mappings = {}\n",
    "    \n",
    "    # Drop unamed index column\n",
    "    data = data.drop(data.columns[0], axis=1)\n",
    "    \n",
    "    # Encode breed category\n",
    "    def encode(data, mappings, col_name):\n",
    "        le = LabelEncoder()\n",
    "        data[col_name] = le.fit_transform(data[col_name])\n",
    "        mappings[col_name] = dict(zip(le.classes_, le.transform(le.classes_)))\n",
    "    \n",
    "    encode(data, mappings, 'breed_cat')\n",
    "    \n",
    "    # Encode sex\n",
    "    encode(data, mappings, 'sex')\n",
    "    \n",
    "    # Take only first 5 digits of zip code\n",
    "    for i in range(len(data['zip'])):\n",
    "        data['zip'][i] = data['zip'][i][0:5]\n",
    "    \n",
    "    data['zip'] = data['zip'].astype(int)\n",
    "    \n",
    "    # dob to string\n",
    "    for i in range(len(data['dob'])):\n",
    "        item = data['dob'][i]\n",
    "        if isinstance(item, str):\n",
    "            dt = datetime.strptime(data['dob'][i], '%Y-%m-%d')\n",
    "            data['dob'][i] = dt.timestamp()\n",
    "        elif np.isnan(item) == True:\n",
    "            data['dob'][i] = 0\n",
    "    \n",
    "    # Impute missing dates of birth encoded as 0\n",
    "    imp = SimpleImputer(missing_values=0, strategy='mean')   \n",
    "    data['dob'] = imp.fit_transform(np.asarray(data['dob']).reshape((-1,1)))\n",
    "    \n",
    "    # Encode therapy\n",
    "    for i in range(len(data['therapy'])):\n",
    "        item = data['therapy'][i]\n",
    "        if isinstance(item, str) == False and np.isnan(item) == True:\n",
    "            data['therapy'][i] = \"NA\"\n",
    "    \n",
    "    encode(data, mappings, 'therapy')\n",
    "    \n",
    "    # Encode first_proc_date\n",
    "    for i in range(len(data['first_proc_date'])):\n",
    "        item = data['first_proc_date'][i]\n",
    "        if isinstance(item, str):\n",
    "            dt = datetime.strptime(data['first_proc_date'][i], '%Y-%m-%d')\n",
    "            data['first_proc_date'][i] = dt.timestamp()\n",
    "        elif np.isnan(item) == True:\n",
    "            data['first_proc_date'][i] = 0\n",
    "    \n",
    "    data['first_proc_date'] = data['first_proc_date'].astype(float)\n",
    "    \n",
    "    # Encode first_proc_season\n",
    "    for i in range(len(data['first_proc_season'])):\n",
    "        item = data['first_proc_season'][i]\n",
    "        if isinstance(item, str) == False and np.isnan(item) == True:\n",
    "            data['first_proc_season'][i] = \"NA\"\n",
    "            \n",
    "    encode(data, mappings, 'first_proc_season')\n",
    "    \n",
    "    # Encode dob_season\n",
    "    for i in range(len(data['dob_season'])):\n",
    "        item = data['dob_season'][i]\n",
    "        if isinstance(item, str) == False and np.isnan(item) == True:\n",
    "            data['dob_season'][i] = \"Unknown\"\n",
    "            \n",
    "    encode(data, mappings, 'dob_season')\n",
    "    \n",
    "    # Encode first_dvm_code\n",
    "    for i in range(len(data['first_dvm_code'])):\n",
    "        item = data['first_dvm_code'][i]\n",
    "        if isinstance(item, str) == False and np.isnan(item) == True:\n",
    "            data['first_dvm_code'][i] = -1\n",
    "        data['first_dvm_code'][i]= int(data['first_dvm_code'][i])\n",
    "    \n",
    "    # Encode RUCC\n",
    "    for i in range(len(data['RUCC'])):\n",
    "        item = data['RUCC'][i]\n",
    "        if isinstance(item, str) == False and np.isnan(item) == True:\n",
    "            data['RUCC'][i] = 0\n",
    "    \n",
    "    # Impute missing RUCC\n",
    "    imp = SimpleImputer(missing_values=0, strategy='mean')   \n",
    "    data['RUCC'] = imp.fit_transform(np.asarray(data['RUCC']).reshape((-1,1)))\n",
    "    \n",
    "    return data, mappings"
   ]
  },
  {
   "cell_type": "code",
   "execution_count": 4,
   "metadata": {},
   "outputs": [],
   "source": [
    "data, mappings = prep_data()"
   ]
  },
  {
   "cell_type": "markdown",
   "metadata": {},
   "source": [
    "Categorical features have been encoded as integers, with the mappings stored in `mappings` dictionary."
   ]
  },
  {
   "cell_type": "code",
   "execution_count": 4,
   "metadata": {},
   "outputs": [
    {
     "data": {
      "text/plain": [
       "{'breed_cat': {'bulldog breed': 0,\n",
       "  'hound': 1,\n",
       "  'large breed': 2,\n",
       "  'mixed breed': 3,\n",
       "  'northern breed': 4,\n",
       "  'other': 5,\n",
       "  'pinscher': 6,\n",
       "  'pointer': 7,\n",
       "  'poodle': 8,\n",
       "  'retriever': 9,\n",
       "  'setter': 10,\n",
       "  'shepherd': 11,\n",
       "  'spaniel': 12,\n",
       "  'spitz': 13,\n",
       "  'terrier': 14,\n",
       "  'toy breed': 15},\n",
       " 'sex': {'F': 0, 'M': 1, 'N': 2, 'S': 3},\n",
       " 'therapy': {'Allergy Shot': 0, 'NA': 1, 'Sublingual': 2},\n",
       " 'first_proc_season': {'NA': 0,\n",
       "  'fall': 1,\n",
       "  'spring': 2,\n",
       "  'summer': 3,\n",
       "  'winter': 4},\n",
       " 'dob_season': {'Unknown': 0,\n",
       "  'fall': 1,\n",
       "  'spring': 2,\n",
       "  'summer': 3,\n",
       "  'winter': 4}}"
      ]
     },
     "execution_count": 4,
     "metadata": {},
     "output_type": "execute_result"
    }
   ],
   "source": [
    "mappings"
   ]
  },
  {
   "cell_type": "markdown",
   "metadata": {},
   "source": [
    "After processing, the dataset has the following columns:\n",
    " - `breed_cat`: Patient breed (Spaniel, Retriever, Shepherd, Pointer, Hound, Bulldog breed, Terrier, Setter, Northern breed, Poodle, Toy breed, Pinscher, Large breed, Spitz, Mixed breed, Other)\n",
    " - `sex`: Patient sex (female, male, neutered, spayed)\n",
    " - `zip`: ZIP code for patient address\n",
    " - `RUCC`: Rural-urban continuum codes (RUCC) characterizes county population numerically from 1 (largest) to 9 (smallest)\n",
    " - `case`: Case (1) or control (0)\n",
    " - `dob`: POSIX timestamp of patient date of birth\n",
    " - `therapy`: Patient therapy (allergy shot, sublingual, or none)\n",
    " - `first_proc_date`: POSIX timestamp of patient's first treatment date\n",
    " - `first_proc_season`: Season of patient's first season\n",
    " - `age_days`: Patient age at day of first treatment\n",
    " - `age_cat`: Ages are categorized as 1 (\"young\", less than 660 days) and 2 (\"old\", at least 660 days)\n",
    " - `first_dvm_code`: Numerical code representing attending DVM at first treatment\n",
    " - `tx_success`: Treatment success (1) or failure (0), where success is defined by patient returns > 0\n",
    " - `returns`: Number of return visits after initial treatment\n",
    " - `dob_season`: Season of patient's date of birth"
   ]
  },
  {
   "cell_type": "code",
   "execution_count": 5,
   "metadata": {},
   "outputs": [
    {
     "data": {
      "text/html": [
       "<div>\n",
       "<style scoped>\n",
       "    .dataframe tbody tr th:only-of-type {\n",
       "        vertical-align: middle;\n",
       "    }\n",
       "\n",
       "    .dataframe tbody tr th {\n",
       "        vertical-align: top;\n",
       "    }\n",
       "\n",
       "    .dataframe thead th {\n",
       "        text-align: right;\n",
       "    }\n",
       "</style>\n",
       "<table border=\"1\" class=\"dataframe\">\n",
       "  <thead>\n",
       "    <tr style=\"text-align: right;\">\n",
       "      <th></th>\n",
       "      <th>breed_cat</th>\n",
       "      <th>sex</th>\n",
       "      <th>zip</th>\n",
       "      <th>RUCC</th>\n",
       "      <th>case</th>\n",
       "      <th>dob</th>\n",
       "      <th>therapy</th>\n",
       "      <th>first_proc_date</th>\n",
       "      <th>first_proc_season</th>\n",
       "      <th>age_days</th>\n",
       "      <th>age_cat</th>\n",
       "      <th>first_dvm_code</th>\n",
       "      <th>tx_success</th>\n",
       "      <th>returns</th>\n",
       "      <th>dob_season</th>\n",
       "    </tr>\n",
       "  </thead>\n",
       "  <tbody>\n",
       "    <tr>\n",
       "      <th>0</th>\n",
       "      <td>14</td>\n",
       "      <td>2</td>\n",
       "      <td>53534</td>\n",
       "      <td>3.0</td>\n",
       "      <td>1</td>\n",
       "      <td>1.167631e+09</td>\n",
       "      <td>0</td>\n",
       "      <td>1.517378e+09</td>\n",
       "      <td>4</td>\n",
       "      <td>4048.0</td>\n",
       "      <td>2.0</td>\n",
       "      <td>5.0</td>\n",
       "      <td>1.0</td>\n",
       "      <td>1.0</td>\n",
       "      <td>4</td>\n",
       "    </tr>\n",
       "    <tr>\n",
       "      <th>1</th>\n",
       "      <td>0</td>\n",
       "      <td>3</td>\n",
       "      <td>53704</td>\n",
       "      <td>2.0</td>\n",
       "      <td>1</td>\n",
       "      <td>1.224738e+09</td>\n",
       "      <td>0</td>\n",
       "      <td>1.255410e+09</td>\n",
       "      <td>1</td>\n",
       "      <td>355.0</td>\n",
       "      <td>1.0</td>\n",
       "      <td>9.0</td>\n",
       "      <td>1.0</td>\n",
       "      <td>3.0</td>\n",
       "      <td>1</td>\n",
       "    </tr>\n",
       "    <tr>\n",
       "      <th>2</th>\n",
       "      <td>1</td>\n",
       "      <td>3</td>\n",
       "      <td>53711</td>\n",
       "      <td>2.0</td>\n",
       "      <td>1</td>\n",
       "      <td>1.028264e+09</td>\n",
       "      <td>0</td>\n",
       "      <td>1.221628e+09</td>\n",
       "      <td>1</td>\n",
       "      <td>2238.0</td>\n",
       "      <td>2.0</td>\n",
       "      <td>3.0</td>\n",
       "      <td>1.0</td>\n",
       "      <td>9.0</td>\n",
       "      <td>3</td>\n",
       "    </tr>\n",
       "    <tr>\n",
       "      <th>3</th>\n",
       "      <td>9</td>\n",
       "      <td>2</td>\n",
       "      <td>53705</td>\n",
       "      <td>2.0</td>\n",
       "      <td>1</td>\n",
       "      <td>9.624276e+08</td>\n",
       "      <td>0</td>\n",
       "      <td>1.323410e+09</td>\n",
       "      <td>4</td>\n",
       "      <td>4178.0</td>\n",
       "      <td>2.0</td>\n",
       "      <td>9.0</td>\n",
       "      <td>1.0</td>\n",
       "      <td>3.0</td>\n",
       "      <td>3</td>\n",
       "    </tr>\n",
       "    <tr>\n",
       "      <th>4</th>\n",
       "      <td>1</td>\n",
       "      <td>2</td>\n",
       "      <td>53597</td>\n",
       "      <td>2.0</td>\n",
       "      <td>1</td>\n",
       "      <td>1.357020e+09</td>\n",
       "      <td>0</td>\n",
       "      <td>1.507525e+09</td>\n",
       "      <td>1</td>\n",
       "      <td>1742.0</td>\n",
       "      <td>2.0</td>\n",
       "      <td>10.0</td>\n",
       "      <td>1.0</td>\n",
       "      <td>1.0</td>\n",
       "      <td>4</td>\n",
       "    </tr>\n",
       "  </tbody>\n",
       "</table>\n",
       "</div>"
      ],
      "text/plain": [
       "   breed_cat  sex    zip  RUCC  case           dob  therapy  first_proc_date  \\\n",
       "0         14    2  53534   3.0     1  1.167631e+09        0     1.517378e+09   \n",
       "1          0    3  53704   2.0     1  1.224738e+09        0     1.255410e+09   \n",
       "2          1    3  53711   2.0     1  1.028264e+09        0     1.221628e+09   \n",
       "3          9    2  53705   2.0     1  9.624276e+08        0     1.323410e+09   \n",
       "4          1    2  53597   2.0     1  1.357020e+09        0     1.507525e+09   \n",
       "\n",
       "   first_proc_season  age_days  age_cat  first_dvm_code  tx_success  returns  \\\n",
       "0                  4    4048.0      2.0             5.0         1.0      1.0   \n",
       "1                  1     355.0      1.0             9.0         1.0      3.0   \n",
       "2                  1    2238.0      2.0             3.0         1.0      9.0   \n",
       "3                  4    4178.0      2.0             9.0         1.0      3.0   \n",
       "4                  1    1742.0      2.0            10.0         1.0      1.0   \n",
       "\n",
       "   dob_season  \n",
       "0           4  \n",
       "1           1  \n",
       "2           3  \n",
       "3           3  \n",
       "4           4  "
      ]
     },
     "execution_count": 5,
     "metadata": {},
     "output_type": "execute_result"
    }
   ],
   "source": [
    "data.head()"
   ]
  },
  {
   "cell_type": "markdown",
   "metadata": {},
   "source": [
    "We have 2249 patients in the data set."
   ]
  },
  {
   "cell_type": "code",
   "execution_count": 6,
   "metadata": {},
   "outputs": [
    {
     "data": {
      "text/plain": [
       "2249"
      ]
     },
     "execution_count": 6,
     "metadata": {},
     "output_type": "execute_result"
    }
   ],
   "source": [
    "len(data)"
   ]
  },
  {
   "cell_type": "markdown",
   "metadata": {},
   "source": [
    "## Part 1 - Predicting Treatment Success"
   ]
  },
  {
   "cell_type": "markdown",
   "metadata": {},
   "source": [
    "In the first part of this tutorial, we will create machine learning models to predict the `tx_success` outcome using the other features. We will create a features array $X$ by removing the `tx_success` column from `data`, and copy the values of `tx_success` into a labels array $y$. Since `tx_success` is defined by the number of `returns`, we need to ensure that the `returns` column is also removed from $X$. We also remove rows for which no treatment success outcome was available (if, for example, the patient was a control). The following function does this, returning $X$, $y$, and a list of the resulting column names of $X$."
   ]
  },
  {
   "cell_type": "code",
   "execution_count": 7,
   "metadata": {},
   "outputs": [],
   "source": [
    "def get_tx_success_features_and_labels(data):\n",
    "    # Remove unlabeled data\n",
    "    mask = np.isfinite(data[\"tx_success\"])\n",
    "    exp1 = data[mask]\n",
    "    \n",
    "    # Get labels\n",
    "    y = data[[\"tx_success\"]][mask].values\n",
    "    y = np.asarray(y).reshape((-1,))\n",
    "    \n",
    "    # Remove labels from feature array\n",
    "    exp1 = exp1.drop(\"tx_success\", 1)\n",
    "    exp1 = exp1.drop(\"returns\", 1)\n",
    "    \n",
    "    # Format features as numpy array\n",
    "    X = np.asarray(exp1.values)\n",
    "    \n",
    "    # Get column names\n",
    "    colnames = list(exp1.columns.values)\n",
    "    \n",
    "    return X, y, colnames"
   ]
  },
  {
   "cell_type": "markdown",
   "metadata": {},
   "source": [
    "We have 411 cases in our data for which treatment success data was available, and the treatment success rate is 74%."
   ]
  },
  {
   "cell_type": "code",
   "execution_count": 8,
   "metadata": {},
   "outputs": [
    {
     "name": "stdout",
     "output_type": "stream",
     "text": [
      "411\n"
     ]
    }
   ],
   "source": [
    "X, y, _ = get_tx_success_features_and_labels(data)\n",
    "print(X.shape[0])"
   ]
  },
  {
   "cell_type": "code",
   "execution_count": 9,
   "metadata": {},
   "outputs": [
    {
     "name": "stdout",
     "output_type": "stream",
     "text": [
      "0.740\n"
     ]
    }
   ],
   "source": [
    "print(\"%.3f\" %(np.mean(y),))"
   ]
  },
  {
   "cell_type": "markdown",
   "metadata": {},
   "source": [
    "### Univariate feature selection"
   ]
  },
  {
   "cell_type": "markdown",
   "metadata": {},
   "source": [
    "We use chi-squared and mutual information to measure feature importance with respect to the `tx_success` outcome variable."
   ]
  },
  {
   "cell_type": "code",
   "execution_count": 10,
   "metadata": {},
   "outputs": [],
   "source": [
    "from sklearn.feature_selection import SelectKBest\n",
    "from sklearn.feature_selection import chi2\n",
    "from sklearn.feature_selection import mutual_info_classif\n",
    "\n",
    "def get_top_features(score_function, data, num=4):\n",
    "    X, y, colnames = get_tx_success_features_and_labels(data)\n",
    "    selector = SelectKBest(score_function, k=num)\n",
    "    selector.fit(X, y)\n",
    "    top_indices = selector.scores_.argsort()[-num:][::-1]\n",
    "    names = []\n",
    "    scores = []\n",
    "    for i in range(len(top_indices)):\n",
    "        ind = top_indices[i]\n",
    "        name = colnames[ind]\n",
    "        score = selector.scores_[ind]\n",
    "        names.append(name)\n",
    "        scores.append(score)\n",
    "    \n",
    "    return names, scores\n",
    "\n",
    "def print_results(data, num=4):\n",
    "    score_functions = [chi2, mutual_info_classif]\n",
    "    for score_func in score_functions:\n",
    "        f_names, scores = get_top_features(score_func, data, num=num)\n",
    "        print(\"\\nScoring by \" + score_func.__name__)\n",
    "        print(\"%-20s%10s\" % (\"Feature\", \"Score\"))\n",
    "        for i in range(len(f_names)):\n",
    "            print(\"%-20s%.3E\" % (f_names[i], scores[i]))\n",
    "\n",
    "def univariate_feat_selection(data):\n",
    "    for num in reversed(range(1,6)):\n",
    "        print(\"\\nSelect top %s\" % (num))\n",
    "        print_results(data, num)\n"
   ]
  },
  {
   "cell_type": "code",
   "execution_count": 11,
   "metadata": {},
   "outputs": [
    {
     "name": "stdout",
     "output_type": "stream",
     "text": [
      "\n",
      "Select top 5\n",
      "\n",
      "Scoring by chi2\n",
      "Feature                  Score\n",
      "first_proc_date     1.183E+07\n",
      "dob                 9.718E+06\n",
      "zip                 2.552E+02\n",
      "age_days            2.602E+01\n",
      "therapy             1.216E+01\n",
      "\n",
      "Scoring by mutual_info_classif\n",
      "Feature                  Score\n",
      "zip                 6.139E-02\n",
      "first_proc_date     5.053E-02\n",
      "therapy             4.262E-02\n",
      "first_dvm_code      3.187E-02\n",
      "sex                 2.841E-02\n",
      "\n",
      "Select top 4\n",
      "\n",
      "Scoring by chi2\n",
      "Feature                  Score\n",
      "first_proc_date     1.183E+07\n",
      "dob                 9.718E+06\n",
      "zip                 2.552E+02\n",
      "age_days            2.602E+01\n",
      "\n",
      "Scoring by mutual_info_classif\n",
      "Feature                  Score\n",
      "first_proc_date     4.810E-02\n",
      "zip                 4.641E-02\n",
      "dob                 2.541E-02\n",
      "therapy             2.529E-02\n",
      "\n",
      "Select top 3\n",
      "\n",
      "Scoring by chi2\n",
      "Feature                  Score\n",
      "first_proc_date     1.183E+07\n",
      "dob                 9.718E+06\n",
      "zip                 2.552E+02\n",
      "\n",
      "Scoring by mutual_info_classif\n",
      "Feature                  Score\n",
      "first_proc_date     4.887E-02\n",
      "zip                 4.696E-02\n",
      "breed_cat           3.994E-02\n",
      "\n",
      "Select top 2\n",
      "\n",
      "Scoring by chi2\n",
      "Feature                  Score\n",
      "first_proc_date     1.183E+07\n",
      "dob                 9.718E+06\n",
      "\n",
      "Scoring by mutual_info_classif\n",
      "Feature                  Score\n",
      "zip                 5.693E-02\n",
      "first_proc_date     4.961E-02\n",
      "\n",
      "Select top 1\n",
      "\n",
      "Scoring by chi2\n",
      "Feature                  Score\n",
      "first_proc_date     1.183E+07\n",
      "\n",
      "Scoring by mutual_info_classif\n",
      "Feature                  Score\n",
      "first_proc_date     5.034E-02\n"
     ]
    }
   ],
   "source": [
    "univariate_feat_selection(data)"
   ]
  },
  {
   "cell_type": "markdown",
   "metadata": {},
   "source": [
    "These results represent measures of univariate feature importance and therefore should be taken lightly. They indicate that the following features may be of greater importance.\n",
    "\n",
    "| Index in X | Feature name    |\n",
    "|------------|-----------------|\n",
    "| 7          | first_proc_date |\n",
    "| 2          | zip             |\n",
    "| 5          | dob             |\n",
    "| 0          | breed_cat       |\n",
    "| 6          | therapy         |\n",
    "\n",
    "We will restrict ourselves to at most these features when training our models, but next review correlations between features to see if we may wish to remove any additional features."
   ]
  },
  {
   "cell_type": "markdown",
   "metadata": {},
   "source": [
    "### Reviewing correlation between features"
   ]
  },
  {
   "cell_type": "markdown",
   "metadata": {},
   "source": [
    "Before training a model, we look for any strong correlations between the candidate input features."
   ]
  },
  {
   "cell_type": "code",
   "execution_count": 12,
   "metadata": {},
   "outputs": [
    {
     "name": "stdout",
     "output_type": "stream",
     "text": [
      "[[ 1.          0.02128403 -0.17713361  0.06536945 -0.05850813]\n",
      " [ 0.02128403  1.          0.03975178 -0.00755378  0.03427833]\n",
      " [-0.17713361  0.03975178  1.          0.05706716  0.73424432]\n",
      " [ 0.06536945 -0.00755378  0.05706716  1.          0.1255682 ]\n",
      " [-0.05850813  0.03427833  0.73424432  0.1255682   1.        ]]\n"
     ]
    }
   ],
   "source": [
    "X, y, _ = get_tx_success_features_and_labels(data)\n",
    "cols = [0, 2, 5, 6, 7]\n",
    "X = X[:, cols]\n",
    "\n",
    "M = np.zeros((5,5))\n",
    "\n",
    "for i in range(5):\n",
    "    for j in range(5):\n",
    "        corr = np.corrcoef(X[:,i], X[:,j])\n",
    "        M[i,j] = corr[0,1]\n",
    "\n",
    "print(M)"
   ]
  },
  {
   "cell_type": "markdown",
   "metadata": {},
   "source": [
    "There is a strong correlation between the index 5 (`dob`) and the index 7 (`first_proc_date`) feature in this five-feature data set. We will remove the `dob` feature as well."
   ]
  },
  {
   "cell_type": "markdown",
   "metadata": {},
   "source": [
    "### Cross-validation experiment"
   ]
  },
  {
   "cell_type": "markdown",
   "metadata": {},
   "source": [
    "We will test a small set of machine learning models on our $X$ and $y$, restricting only to the features `breed_cat`, `zip`, `therapy`, and `first_proc_date`. (While the data is not shown in this workbook, this feature selection will allow us to obtain results very similar to what would have been obtained without feature selection. With feature selection, however, we significantly reduce the run time of our experiments.)\n",
    "\n",
    "You can specify a callable `scorer` parameter to the `cross_validation` function if desired, or the `f1_score` in scikit-learn will be used by default. This will specify the metric used to determine optimal hyperparameters in an internal cross-validation grid search. A function is made available to use area under the Precision-Recall (PR) curve. (Experiments not shown in this notebook suggest that accuracy, F1 score, and PR-AUC all provide similar hyperparameter selections and overall model performance.)"
   ]
  },
  {
   "cell_type": "code",
   "execution_count": 7,
   "metadata": {},
   "outputs": [],
   "source": [
    "\"\"\"\n",
    "Run a 5-fold cross-validation experiment to measure the performance of the\n",
    "following machine learning models:\n",
    "    Support vector machine\n",
    "    Random forest\n",
    "    Tree\n",
    "    Bagging trees\n",
    "    Boosted trees\n",
    "    Logistic regression\n",
    "\n",
    "Uses 5-fold internal cross-validated grid search over a range of common values\n",
    "for each algorithm's hyperparameters.\n",
    "\n",
    "Inputs:\n",
    "    data - data frame object created for this experiment\n",
    "    scorer - callable \n",
    "    X, y - can override (e.g. for feature selection)\n",
    "\n",
    "Results:\n",
    "    output.txt - performance statistics for the best models across external test folds\n",
    "    *_params.txt - pickled list of best parameters on each fold\n",
    "    \n",
    "\"\"\"\n",
    "def cross_validation(data, scorer = None, X=None, y=None):\n",
    "    # Get features and labels for predicting tx success\n",
    "    if X is None and y is None:\n",
    "        X, y = get_tx_success_features_and_labels(data)\n",
    "    \n",
    "    # Cross-validation\n",
    "    kfold = StratifiedKFold(n_splits=5, shuffle=True, random_state=seed)\n",
    "    \n",
    "    # Default scorer is f1_score\n",
    "    if scorer is None:\n",
    "        scorer = make_scorer(f1_score)\n",
    "    \n",
    "    svm_pred = []\n",
    "    rf_pred = []\n",
    "    tree_pred = []\n",
    "    bag_pred = []\n",
    "    boost_pred = []\n",
    "    lr_pred = []\n",
    "    truth_labels = []\n",
    "    \n",
    "    svm_params = []\n",
    "    rf_params = []\n",
    "    tree_params = []\n",
    "    boost_params = []\n",
    "    lr_params = []\n",
    "    \n",
    "    k=1\n",
    "    for train, test in kfold.split(X, y):\n",
    "        print(\"******************* FOLD \" + str(k) + \" *******************\")\n",
    "        \n",
    "        #SVM\n",
    "        C_range = np.logspace(-5, 15, 11, base=2) #2^-5, 2^-3, ..., 2^15\n",
    "        gamma_range = np.logspace(-15, 3, 10, base=2) #2^-15, 2^-13, ... 2^3\n",
    "        #parameters = {'kernel':('linear', 'rbf'), 'C':C_range, 'gamma':gamma_range}\n",
    "        parameters = {'kernel':('rbf',), 'C':C_range, 'gamma':gamma_range}\n",
    "        svm_model = svm.SVC()\n",
    "        svm_final = GridSearchCV(svm_model, parameters, scoring=scorer, n_jobs=-1, cv=5, verbose=0)\n",
    "        svm_final.fit(X[train], y[train])\n",
    "        pred = svm_final.predict(X[test])\n",
    "        svm_params.append(svm_final.best_params_)\n",
    "        svm_pred.extend(pred)\n",
    "        \n",
    "        # Random Forest\n",
    "        n_range = [1000]\n",
    "        feat_range = ['sqrt', 0.02, 0.05, 0.1, 0.2, 0.5, 0.75, 0.9, 0.95, 1.0]\n",
    "        min_samples_split_range = [2, 5, 10, 50]\n",
    "        parameters = {'n_estimators':n_range, 'max_features':feat_range, 'min_samples_split':min_samples_split_range}\n",
    "        rf_model = RandomForestClassifier(max_depth=None, random_state=0)\n",
    "        rf_final = GridSearchCV(rf_model, parameters, scoring=scorer, n_jobs=-1, cv=5, verbose=0)\n",
    "        rf_final.fit(X[train], y[train])\n",
    "        pred = rf_final.predict(X[test])\n",
    "        rf_params.append(rf_final.best_params_)\n",
    "        rf_pred.extend(pred)\n",
    "        \n",
    "        #Tree\n",
    "        parameters = {'min_samples_split':[2, 5, 10, 50]}\n",
    "        tree_model = tree.DecisionTreeClassifier()\n",
    "        tree_final = GridSearchCV(tree_model, parameters, scoring=scorer, n_jobs=-1, cv=5, verbose=0)\n",
    "        tree_final.fit(X[train], y[train])\n",
    "        pred = tree_final.predict(X[test])\n",
    "        tree_params.append(tree_final.best_params_)\n",
    "        tree_pred.extend(pred)\n",
    "        \n",
    "        #Bagging tree\n",
    "        bag_model = BaggingClassifier(tree_final.best_estimator_, n_estimators = 1000, bootstrap = True, n_jobs=-1)\n",
    "        bag_model.fit(X[train], y[train])\n",
    "        pred = bag_model.predict(X[test])\n",
    "        bag_pred.extend(pred)\n",
    "        \n",
    "        # Boosting\n",
    "        n_range = [1000]\n",
    "        max_depths = np.linspace(2, 10, 9, endpoint=True)\n",
    "        lr_range = np.logspace(-5, 0, 6, base=10)\n",
    "        parameters = {'n_estimators':n_range, 'max_depth':max_depths, 'learning_rate':lr_range}\n",
    "        boost_model = GradientBoostingClassifier(random_state=0)\n",
    "        boost_final = GridSearchCV(boost_model, parameters, scoring=scorer, n_jobs=-1, cv=5, verbose=0)\n",
    "        boost_final.fit(X[train], y[train])\n",
    "        pred = boost_final.predict(X[test])\n",
    "        boost_params.append(boost_final.best_params_)\n",
    "        boost_pred.extend(pred)\n",
    "        \n",
    "        # Logistic regression\n",
    "        cost_range = np.logspace(-4, 4, 9, base=10)\n",
    "        parameters = {'C':cost_range}\n",
    "        lr_model = LogisticRegression(penalty = 'l2')\n",
    "        lr_final = GridSearchCV(lr_model, parameters, scoring=scorer, n_jobs=-1, cv=5, verbose=0)\n",
    "        lr_final.fit(X[train], y[train])\n",
    "        pred = lr_final.predict(X[test])\n",
    "        lr_params.append(lr_final.best_params_)\n",
    "        lr_pred.extend(pred)\n",
    "        \n",
    "        # Keep targets\n",
    "        truth_labels.extend(y[test])\n",
    "        \n",
    "        #Increment fold counter\n",
    "        k=k+1\n",
    "    \n",
    "    #Convert lists to numpy arrays\n",
    "    svm_pred = np.asarray(svm_pred)\n",
    "    rf_pred = np.asarray(rf_pred)\n",
    "    tree_pred = np.asarray(tree_pred)\n",
    "    bag_pred = np.asarray(bag_pred)\n",
    "    boost_pred = np.asarray(boost_pred)\n",
    "    lr_pred = np.asarray(lr_pred)\n",
    "    truth_labels = np.asarray(truth_labels)\n",
    "    \n",
    "    # Save into current working directory\n",
    "    directory = os.getcwd()\n",
    "    \n",
    "    #Write results\n",
    "    print(\"*******************SVM*******************\\n\")\n",
    "    print(print_CI(svm_pred, truth_labels))\n",
    "    print(\"*******************RF********************\\n\")\n",
    "    print(print_CI(rf_pred, truth_labels))\n",
    "    print(\"*******************Tree******************\\n\")\n",
    "    print(print_CI(tree_pred, truth_labels))\n",
    "    print(\"*******************Bagging***************\\n\")\n",
    "    print(print_CI(bag_pred, truth_labels))\n",
    "    print(\"*******************Boosting**************\\n\")\n",
    "    print(print_CI(boost_pred, truth_labels))\n",
    "    print(\"*******************LR********************\\n\")\n",
    "    print(print_CI(lr_pred, truth_labels))\n",
    "    \n",
    "    #Save lists of optimal parameters\n",
    "    import pickle\n",
    "    with open(os.path.join(directory, \"svm_params.txt\"), \"wb\") as fp:\n",
    "        pickle.dump(svm_params, fp)\n",
    "    with open(os.path.join(directory, \"rf_params.txt\"), \"wb\") as fp:\n",
    "        pickle.dump(rf_params, fp)\n",
    "    with open(os.path.join(directory, \"tree_params.txt\"), \"wb\") as fp:\n",
    "        pickle.dump(tree_params, fp)\n",
    "    with open(os.path.join(directory, \"boost_params.txt\"), \"wb\") as fp:\n",
    "        pickle.dump(boost_params, fp)\n",
    "    with open(os.path.join(directory, \"lr_params.txt\"), \"wb\") as fp:\n",
    "        pickle.dump(lr_params, fp)\n",
    "\n",
    "def CI(model_pred, truth_labels, stat_type):\n",
    "    #Arguments: list of predictions and ground truth labels; stat_type \"F1\" or \"accuracy\"\n",
    "    #Returns: F1 score, lower limit of CI, upper limit of CI\n",
    "    \n",
    "    f1_scores = []\n",
    "    acc_scores = []\n",
    "    auc_scores = []\n",
    "    \n",
    "    for i in range(2000):\n",
    "        #Bootstrap sampling\n",
    "        bootstrapped_sample = resample(model_pred, truth_labels)\n",
    "        pred = bootstrapped_sample[0]\n",
    "        lab = bootstrapped_sample[1]\n",
    "        \n",
    "        # Calculate scores\n",
    "        acc = accuracy_score(lab, pred)\n",
    "        f1 = f1_score(lab, pred)\n",
    "        auc = pr_auc(lab, pred)\n",
    "        \n",
    "        # Cache scores\n",
    "        acc_scores.append(acc)\n",
    "        f1_scores.append(f1)\n",
    "        auc_scores.append(auc)\n",
    "    \n",
    "    # select stat type\n",
    "    if (stat_type == \"f1\"):\n",
    "        stats = f1_scores\n",
    "    elif (stat_type == \"accuracy\"):\n",
    "        stats = acc_scores\n",
    "    elif (stat_type == \"auc\"):\n",
    "        stats = auc_scores\n",
    "    else:\n",
    "        print(\"Invalid stat type.\")\n",
    "        return \n",
    "      \n",
    "    # confidence intervals based on percentile\n",
    "    alpha = 0.95\n",
    "    p = ((1.0-alpha)/2.0) * 100\n",
    "    lower = max(0.0, np.percentile(stats, p))\n",
    "    p = (alpha+((1.0-alpha)/2.0)) * 100\n",
    "    upper = min(1.0, np.percentile(stats, p))\n",
    "    \n",
    "    # Mean\n",
    "    mean = np.mean(stats)\n",
    "    \n",
    "    return mean, lower, upper\n",
    "\n",
    "def print_CI(model_pred, truth_labels):\n",
    "    acc_mean, acc_lower, acc_upper = CI(model_pred, truth_labels, \"accuracy\")\n",
    "    f1_mean, f1_lower, f1_upper = CI(model_pred, truth_labels, \"f1\")\n",
    "    auc_mean, auc_lower, auc_upper = CI(model_pred, truth_labels, \"auc\")\n",
    "    acc = \"Acc %.4f (%.4f, %.4f) \\n\" % (acc_mean, acc_lower, acc_upper)\n",
    "    f1 = \"F1 %.4f (%.4f, %.4f) \\n\" % (f1_mean, f1_lower, f1_upper)\n",
    "    auc = \"AUC %.4f (%.4f, %.4f) \\n\" % (auc_mean, auc_lower, auc_upper)\n",
    "    return acc+f1+auc\n",
    "\n",
    "def pr_auc(y_test, pred):\n",
    "    y_test = y_test.reshape((-1,1))\n",
    "    pred = pred.reshape((-1,1))\n",
    "    assert(y_test.shape[0] == pred.shape[0])\n",
    "    if len(np.unique(y_test)) != 2:\n",
    "        raise ValueError(\"Only one class present in y_test. PR AUC undefined.\")\n",
    "    \n",
    "    precision, recall, _ = precision_recall_curve(y_test, pred)\n",
    "    return auc_func(recall, precision)"
   ]
  },
  {
   "cell_type": "code",
   "execution_count": 14,
   "metadata": {},
   "outputs": [],
   "source": [
    "def experiment1(data):\n",
    "    X, y, _ = get_tx_success_features_and_labels(data)\n",
    "    cols = [0, 2, 6, 7]\n",
    "    X = X[:, cols]\n",
    "    \n",
    "    cross_validation(data, X=X, y=y)"
   ]
  },
  {
   "cell_type": "markdown",
   "metadata": {},
   "source": [
    "Running the experiment will output accuracy, F1 score, and area under the PR curve for each of the model types, according to the best hyperparameters determined using an internal 5-fold cross-validation loop. This will also save pickle files into the working directory containing the best hyperparameters for each model type on each external cross-validation fold.\n",
    "\n",
    "On my machine, this experiment takes about 21 minutes with access to 8 concurrent workers on 4 CPUs."
   ]
  },
  {
   "cell_type": "code",
   "execution_count": 15,
   "metadata": {},
   "outputs": [
    {
     "name": "stdout",
     "output_type": "stream",
     "text": [
      "******************* FOLD 1 *******************\n"
     ]
    },
    {
     "name": "stderr",
     "output_type": "stream",
     "text": [
      "C:\\ProgramData\\Anaconda3\\lib\\site-packages\\sklearn\\model_selection\\_search.py:814: DeprecationWarning: The default of the `iid` parameter will change from True to False in version 0.22 and will be removed in 0.24. This will change numeric results when test-set sizes are unequal.\n",
      "  DeprecationWarning)\n",
      "C:\\ProgramData\\Anaconda3\\lib\\site-packages\\sklearn\\model_selection\\_search.py:814: DeprecationWarning: The default of the `iid` parameter will change from True to False in version 0.22 and will be removed in 0.24. This will change numeric results when test-set sizes are unequal.\n",
      "  DeprecationWarning)\n",
      "C:\\ProgramData\\Anaconda3\\lib\\site-packages\\sklearn\\model_selection\\_search.py:814: DeprecationWarning: The default of the `iid` parameter will change from True to False in version 0.22 and will be removed in 0.24. This will change numeric results when test-set sizes are unequal.\n",
      "  DeprecationWarning)\n",
      "C:\\ProgramData\\Anaconda3\\lib\\site-packages\\sklearn\\linear_model\\logistic.py:432: FutureWarning: Default solver will be changed to 'lbfgs' in 0.22. Specify a solver to silence this warning.\n",
      "  FutureWarning)\n"
     ]
    },
    {
     "name": "stdout",
     "output_type": "stream",
     "text": [
      "******************* FOLD 2 *******************\n"
     ]
    },
    {
     "name": "stderr",
     "output_type": "stream",
     "text": [
      "C:\\ProgramData\\Anaconda3\\lib\\site-packages\\sklearn\\model_selection\\_search.py:814: DeprecationWarning: The default of the `iid` parameter will change from True to False in version 0.22 and will be removed in 0.24. This will change numeric results when test-set sizes are unequal.\n",
      "  DeprecationWarning)\n",
      "C:\\ProgramData\\Anaconda3\\lib\\site-packages\\sklearn\\model_selection\\_search.py:814: DeprecationWarning: The default of the `iid` parameter will change from True to False in version 0.22 and will be removed in 0.24. This will change numeric results when test-set sizes are unequal.\n",
      "  DeprecationWarning)\n",
      "C:\\ProgramData\\Anaconda3\\lib\\site-packages\\sklearn\\model_selection\\_search.py:814: DeprecationWarning: The default of the `iid` parameter will change from True to False in version 0.22 and will be removed in 0.24. This will change numeric results when test-set sizes are unequal.\n",
      "  DeprecationWarning)\n",
      "C:\\ProgramData\\Anaconda3\\lib\\site-packages\\sklearn\\linear_model\\logistic.py:432: FutureWarning: Default solver will be changed to 'lbfgs' in 0.22. Specify a solver to silence this warning.\n",
      "  FutureWarning)\n"
     ]
    },
    {
     "name": "stdout",
     "output_type": "stream",
     "text": [
      "******************* FOLD 3 *******************\n"
     ]
    },
    {
     "name": "stderr",
     "output_type": "stream",
     "text": [
      "C:\\ProgramData\\Anaconda3\\lib\\site-packages\\sklearn\\model_selection\\_search.py:814: DeprecationWarning: The default of the `iid` parameter will change from True to False in version 0.22 and will be removed in 0.24. This will change numeric results when test-set sizes are unequal.\n",
      "  DeprecationWarning)\n",
      "C:\\ProgramData\\Anaconda3\\lib\\site-packages\\sklearn\\model_selection\\_search.py:814: DeprecationWarning: The default of the `iid` parameter will change from True to False in version 0.22 and will be removed in 0.24. This will change numeric results when test-set sizes are unequal.\n",
      "  DeprecationWarning)\n",
      "C:\\ProgramData\\Anaconda3\\lib\\site-packages\\sklearn\\model_selection\\_search.py:814: DeprecationWarning: The default of the `iid` parameter will change from True to False in version 0.22 and will be removed in 0.24. This will change numeric results when test-set sizes are unequal.\n",
      "  DeprecationWarning)\n",
      "C:\\ProgramData\\Anaconda3\\lib\\site-packages\\sklearn\\linear_model\\logistic.py:432: FutureWarning: Default solver will be changed to 'lbfgs' in 0.22. Specify a solver to silence this warning.\n",
      "  FutureWarning)\n"
     ]
    },
    {
     "name": "stdout",
     "output_type": "stream",
     "text": [
      "******************* FOLD 4 *******************\n"
     ]
    },
    {
     "name": "stderr",
     "output_type": "stream",
     "text": [
      "C:\\ProgramData\\Anaconda3\\lib\\site-packages\\sklearn\\model_selection\\_search.py:814: DeprecationWarning: The default of the `iid` parameter will change from True to False in version 0.22 and will be removed in 0.24. This will change numeric results when test-set sizes are unequal.\n",
      "  DeprecationWarning)\n",
      "C:\\ProgramData\\Anaconda3\\lib\\site-packages\\sklearn\\model_selection\\_search.py:814: DeprecationWarning: The default of the `iid` parameter will change from True to False in version 0.22 and will be removed in 0.24. This will change numeric results when test-set sizes are unequal.\n",
      "  DeprecationWarning)\n",
      "C:\\ProgramData\\Anaconda3\\lib\\site-packages\\sklearn\\model_selection\\_search.py:814: DeprecationWarning: The default of the `iid` parameter will change from True to False in version 0.22 and will be removed in 0.24. This will change numeric results when test-set sizes are unequal.\n",
      "  DeprecationWarning)\n",
      "C:\\ProgramData\\Anaconda3\\lib\\site-packages\\sklearn\\linear_model\\logistic.py:432: FutureWarning: Default solver will be changed to 'lbfgs' in 0.22. Specify a solver to silence this warning.\n",
      "  FutureWarning)\n"
     ]
    },
    {
     "name": "stdout",
     "output_type": "stream",
     "text": [
      "******************* FOLD 5 *******************\n"
     ]
    },
    {
     "name": "stderr",
     "output_type": "stream",
     "text": [
      "C:\\ProgramData\\Anaconda3\\lib\\site-packages\\sklearn\\model_selection\\_search.py:814: DeprecationWarning: The default of the `iid` parameter will change from True to False in version 0.22 and will be removed in 0.24. This will change numeric results when test-set sizes are unequal.\n",
      "  DeprecationWarning)\n",
      "C:\\ProgramData\\Anaconda3\\lib\\site-packages\\sklearn\\model_selection\\_search.py:814: DeprecationWarning: The default of the `iid` parameter will change from True to False in version 0.22 and will be removed in 0.24. This will change numeric results when test-set sizes are unequal.\n",
      "  DeprecationWarning)\n",
      "C:\\ProgramData\\Anaconda3\\lib\\site-packages\\sklearn\\model_selection\\_search.py:814: DeprecationWarning: The default of the `iid` parameter will change from True to False in version 0.22 and will be removed in 0.24. This will change numeric results when test-set sizes are unequal.\n",
      "  DeprecationWarning)\n",
      "C:\\ProgramData\\Anaconda3\\lib\\site-packages\\sklearn\\linear_model\\logistic.py:432: FutureWarning: Default solver will be changed to 'lbfgs' in 0.22. Specify a solver to silence this warning.\n",
      "  FutureWarning)\n"
     ]
    },
    {
     "name": "stdout",
     "output_type": "stream",
     "text": [
      "*******************SVM*******************\n",
      "\n",
      "Acc 0.7399 (0.6983, 0.7810) \n",
      "F1 0.8505 (0.8223, 0.8786) \n",
      "AUC 0.8699 (0.8491, 0.8905) \n",
      "\n",
      "*******************RF********************\n",
      "\n",
      "Acc 0.7635 (0.7226, 0.8029) \n",
      "F1 0.8620 (0.8346, 0.8877) \n",
      "AUC 0.8792 (0.8566, 0.9001) \n",
      "\n",
      "*******************Tree******************\n",
      "\n",
      "Acc 0.7468 (0.7056, 0.7883) \n",
      "F1 0.8420 (0.8094, 0.8719) \n",
      "AUC 0.8804 (0.8571, 0.9029) \n",
      "\n",
      "*******************Bagging***************\n",
      "\n",
      "Acc 0.7566 (0.7153, 0.7981) \n",
      "F1 0.8516 (0.8217, 0.8791) \n",
      "AUC 0.8798 (0.8561, 0.9019) \n",
      "\n",
      "*******************Boosting**************\n",
      "\n",
      "Acc 0.7357 (0.6934, 0.7786) \n",
      "F1 0.8461 (0.8167, 0.8733) \n",
      "AUC 0.8681 (0.8461, 0.8890) \n",
      "\n",
      "*******************LR********************\n",
      "\n",
      "Acc 0.7395 (0.6959, 0.7835) \n",
      "F1 0.8505 (0.8223, 0.8770) \n",
      "AUC 0.8701 (0.8467, 0.8917) \n",
      "\n"
     ]
    }
   ],
   "source": [
    "experiment1(data)"
   ]
  },
  {
   "cell_type": "markdown",
   "metadata": {},
   "source": [
    "These are all known to be successful algorithms for classification, and so unsurprisingly they all perform at a comparable level."
   ]
  },
  {
   "cell_type": "markdown",
   "metadata": {},
   "source": [
    "### Testing a no-information model"
   ]
  },
  {
   "cell_type": "markdown",
   "metadata": {},
   "source": [
    "The results of the cross-validation experiment appear promising (accuracy around 75% with PR AUC around 88%), but given that there is significant class skew in this data set, it is worth testing a no information model. Let's consider a classifier that indiscriminantly predicts a positive treatment success for every case."
   ]
  },
  {
   "cell_type": "code",
   "execution_count": 16,
   "metadata": {},
   "outputs": [
    {
     "name": "stdout",
     "output_type": "stream",
     "text": [
      "Acc 0.7397 (0.6959, 0.7810) \n",
      "F1 0.8504 (0.8223, 0.8770) \n",
      "AUC 0.8700 (0.8491, 0.8905) \n",
      "\n"
     ]
    }
   ],
   "source": [
    "_, y_true, _ = get_tx_success_features_and_labels(data)\n",
    "y_pred = np.ones((y_true.size,))\n",
    "\n",
    "print(print_CI(y_pred, y_true))"
   ]
  },
  {
   "cell_type": "markdown",
   "metadata": {},
   "source": [
    "Unfortunately, we see that this no-information model achieves comparable performance to the machine learning models. Therefore, none of the machine learning algorithms is able to extract a predictive signal from the available features."
   ]
  },
  {
   "cell_type": "markdown",
   "metadata": {},
   "source": [
    "### Summary: Prediction of treatment success"
   ]
  },
  {
   "cell_type": "markdown",
   "metadata": {},
   "source": [
    "The machine learning models do not extract predictive signal from the available features. Had we not included a no-information or null model in our assessment, we may have been misled by the appearance of relatively promising performance scores. It is important to remember that when there is class skew in the data set, not only is accuracy often misleading but other measures of performance may also be misleading if not compared to a null model.\n",
    "\n",
    "Importantly, **there is no evidence from this data that immunotherapy treatment type is correlated with treatment success**."
   ]
  },
  {
   "cell_type": "markdown",
   "metadata": {},
   "source": [
    "## Part 2 - Predicting Case vs. Control"
   ]
  },
  {
   "cell_type": "markdown",
   "metadata": {},
   "source": [
    "In the second part, we return to the original data frame `data` and consider the `case` variable as the outcome for our classifier. As before, we will extract a features array $X$ by removing rows with missing case status and removing all feature columns relating to immunotherapy treatment."
   ]
  },
  {
   "cell_type": "code",
   "execution_count": 5,
   "metadata": {},
   "outputs": [],
   "source": [
    "\"\"\"\n",
    "Get feature table and label vector from the data for tx success prediction.\n",
    "\n",
    "Inputs:\n",
    "    data - data frame object created for this experiment\n",
    "    drop_dob - if true, drop the 'dob' feature\n",
    "\n",
    "\"\"\"\n",
    "def get_case_status_features_and_labels(data, drop_dob = False):\n",
    "    # Remove unlabeled data\n",
    "    mask = np.isfinite(data[\"case\"])\n",
    "    exp1 = data[mask]\n",
    "    \n",
    "    # Get labels\n",
    "    y = data[[\"case\"]][mask].values\n",
    "    y = np.asarray(y).reshape((-1,))\n",
    "    \n",
    "    # Remove labels from feature array\n",
    "    exp1 = exp1.drop(\"case\", 1)\n",
    "    exp1 = exp1.drop(\"therapy\", 1)\n",
    "    exp1 = exp1.drop(\"first_proc_date\", 1)\n",
    "    exp1 = exp1.drop(\"first_proc_season\", 1)\n",
    "    exp1 = exp1.drop(\"age_days\", 1)\n",
    "    exp1 = exp1.drop(\"age_cat\", 1)\n",
    "    exp1 = exp1.drop(\"first_dvm_code\", 1)\n",
    "    exp1 = exp1.drop(\"tx_success\", 1)\n",
    "    exp1 = exp1.drop(\"returns\", 1)\n",
    "    \n",
    "    # Remove dob\n",
    "    if drop_dob == True:\n",
    "        exp1 = exp1.drop(\"dob\", 1)\n",
    "    \n",
    "    # Format features as numpy array\n",
    "    X = np.asarray(exp1.values)\n",
    "    \n",
    "    # Get column names\n",
    "    colnames = list(exp1.columns.values)\n",
    "    \n",
    "    return X, y, colnames"
   ]
  },
  {
   "cell_type": "markdown",
   "metadata": {},
   "source": [
    "We have a case prevalance of 657/2249, or 29.2%."
   ]
  },
  {
   "cell_type": "code",
   "execution_count": 18,
   "metadata": {},
   "outputs": [
    {
     "name": "stdout",
     "output_type": "stream",
     "text": [
      "2249\n"
     ]
    }
   ],
   "source": [
    "X, y, _ = get_case_status_features_and_labels(data)\n",
    "\n",
    "# Total cases and controls\n",
    "print(X.shape[0])"
   ]
  },
  {
   "cell_type": "code",
   "execution_count": 19,
   "metadata": {},
   "outputs": [
    {
     "name": "stdout",
     "output_type": "stream",
     "text": [
      "657\n"
     ]
    }
   ],
   "source": [
    "# Total cases\n",
    "print(np.sum(y))"
   ]
  },
  {
   "cell_type": "code",
   "execution_count": 20,
   "metadata": {},
   "outputs": [
    {
     "name": "stdout",
     "output_type": "stream",
     "text": [
      "0.292\n"
     ]
    }
   ],
   "source": [
    "# Case prevalance\n",
    "print(\"%.3f\" %(np.sum(y)/X.shape[0],))"
   ]
  },
  {
   "cell_type": "markdown",
   "metadata": {},
   "source": [
    "### Cross-validation experiment"
   ]
  },
  {
   "cell_type": "markdown",
   "metadata": {},
   "source": [
    "Next we repeat the cross-validation experiment from Part 1 using the specified $X$ and $y$. (Please note that it will overwrite params files in the working directory.)"
   ]
  },
  {
   "cell_type": "code",
   "execution_count": 21,
   "metadata": {},
   "outputs": [],
   "source": [
    "def experiment2(data, drop_dob = False):\n",
    "    X, y, _ = get_case_status_features_and_labels(data, drop_dob = drop_dob)    \n",
    "    cross_validation(data, X=X, y=y)"
   ]
  },
  {
   "cell_type": "code",
   "execution_count": 22,
   "metadata": {},
   "outputs": [
    {
     "name": "stdout",
     "output_type": "stream",
     "text": [
      "******************* FOLD 1 *******************\n"
     ]
    },
    {
     "name": "stderr",
     "output_type": "stream",
     "text": [
      "C:\\ProgramData\\Anaconda3\\lib\\site-packages\\sklearn\\model_selection\\_search.py:814: DeprecationWarning: The default of the `iid` parameter will change from True to False in version 0.22 and will be removed in 0.24. This will change numeric results when test-set sizes are unequal.\n",
      "  DeprecationWarning)\n",
      "C:\\ProgramData\\Anaconda3\\lib\\site-packages\\sklearn\\linear_model\\logistic.py:432: FutureWarning: Default solver will be changed to 'lbfgs' in 0.22. Specify a solver to silence this warning.\n",
      "  FutureWarning)\n"
     ]
    },
    {
     "name": "stdout",
     "output_type": "stream",
     "text": [
      "******************* FOLD 2 *******************\n"
     ]
    },
    {
     "name": "stderr",
     "output_type": "stream",
     "text": [
      "C:\\ProgramData\\Anaconda3\\lib\\site-packages\\sklearn\\model_selection\\_search.py:814: DeprecationWarning: The default of the `iid` parameter will change from True to False in version 0.22 and will be removed in 0.24. This will change numeric results when test-set sizes are unequal.\n",
      "  DeprecationWarning)\n",
      "C:\\ProgramData\\Anaconda3\\lib\\site-packages\\sklearn\\model_selection\\_search.py:814: DeprecationWarning: The default of the `iid` parameter will change from True to False in version 0.22 and will be removed in 0.24. This will change numeric results when test-set sizes are unequal.\n",
      "  DeprecationWarning)\n",
      "C:\\ProgramData\\Anaconda3\\lib\\site-packages\\sklearn\\linear_model\\logistic.py:432: FutureWarning: Default solver will be changed to 'lbfgs' in 0.22. Specify a solver to silence this warning.\n",
      "  FutureWarning)\n"
     ]
    },
    {
     "name": "stdout",
     "output_type": "stream",
     "text": [
      "******************* FOLD 3 *******************\n"
     ]
    },
    {
     "name": "stderr",
     "output_type": "stream",
     "text": [
      "C:\\ProgramData\\Anaconda3\\lib\\site-packages\\sklearn\\model_selection\\_search.py:814: DeprecationWarning: The default of the `iid` parameter will change from True to False in version 0.22 and will be removed in 0.24. This will change numeric results when test-set sizes are unequal.\n",
      "  DeprecationWarning)\n",
      "C:\\ProgramData\\Anaconda3\\lib\\site-packages\\sklearn\\model_selection\\_search.py:814: DeprecationWarning: The default of the `iid` parameter will change from True to False in version 0.22 and will be removed in 0.24. This will change numeric results when test-set sizes are unequal.\n",
      "  DeprecationWarning)\n",
      "C:\\ProgramData\\Anaconda3\\lib\\site-packages\\sklearn\\linear_model\\logistic.py:432: FutureWarning: Default solver will be changed to 'lbfgs' in 0.22. Specify a solver to silence this warning.\n",
      "  FutureWarning)\n"
     ]
    },
    {
     "name": "stdout",
     "output_type": "stream",
     "text": [
      "******************* FOLD 4 *******************\n"
     ]
    },
    {
     "name": "stderr",
     "output_type": "stream",
     "text": [
      "C:\\ProgramData\\Anaconda3\\lib\\site-packages\\sklearn\\model_selection\\_search.py:814: DeprecationWarning: The default of the `iid` parameter will change from True to False in version 0.22 and will be removed in 0.24. This will change numeric results when test-set sizes are unequal.\n",
      "  DeprecationWarning)\n",
      "C:\\ProgramData\\Anaconda3\\lib\\site-packages\\sklearn\\linear_model\\logistic.py:432: FutureWarning: Default solver will be changed to 'lbfgs' in 0.22. Specify a solver to silence this warning.\n",
      "  FutureWarning)\n"
     ]
    },
    {
     "name": "stdout",
     "output_type": "stream",
     "text": [
      "******************* FOLD 5 *******************\n"
     ]
    },
    {
     "name": "stderr",
     "output_type": "stream",
     "text": [
      "C:\\ProgramData\\Anaconda3\\lib\\site-packages\\sklearn\\linear_model\\logistic.py:432: FutureWarning: Default solver will be changed to 'lbfgs' in 0.22. Specify a solver to silence this warning.\n",
      "  FutureWarning)\n"
     ]
    },
    {
     "name": "stdout",
     "output_type": "stream",
     "text": [
      "*******************SVM*******************\n",
      "\n",
      "Acc 0.8703 (0.8564, 0.8844) \n",
      "F1 0.8159 (0.7951, 0.8358) \n",
      "AUC 0.8431 (0.8281, 0.8582) \n",
      "\n",
      "*******************RF********************\n",
      "\n",
      "Acc 0.8156 (0.7999, 0.8310) \n",
      "F1 0.6616 (0.6294, 0.6917) \n",
      "AUC 0.7206 (0.6927, 0.7467) \n",
      "\n",
      "*******************Tree******************\n",
      "\n",
      "Acc 0.8027 (0.7857, 0.8190) \n",
      "F1 0.6665 (0.6382, 0.6951) \n",
      "AUC 0.7145 (0.6874, 0.7397) \n",
      "\n",
      "*******************Bagging***************\n",
      "\n",
      "Acc 0.8134 (0.7968, 0.8293) \n",
      "F1 0.6585 (0.6276, 0.6899) \n",
      "AUC 0.7179 (0.6900, 0.7448) \n",
      "\n",
      "*******************Boosting**************\n",
      "\n",
      "Acc 0.8813 (0.8671, 0.8946) \n",
      "F1 0.7875 (0.7614, 0.8116) \n",
      "AUC 0.8256 (0.8038, 0.8468) \n",
      "\n",
      "*******************LR********************\n",
      "\n"
     ]
    },
    {
     "name": "stderr",
     "output_type": "stream",
     "text": [
      "C:\\ProgramData\\Anaconda3\\lib\\site-packages\\sklearn\\metrics\\classification.py:1437: UndefinedMetricWarning: F-score is ill-defined and being set to 0.0 due to no predicted samples.\n",
      "  'precision', 'predicted', average, warn_for)\n"
     ]
    },
    {
     "name": "stdout",
     "output_type": "stream",
     "text": [
      "Acc 0.7079 (0.6883, 0.7270) \n",
      "F1 0.0000 (0.0000, 0.0000) \n",
      "AUC 0.6462 (0.6367, 0.6561) \n",
      "\n"
     ]
    }
   ],
   "source": [
    "experiment2(data, drop_dob = False)"
   ]
  },
  {
   "cell_type": "markdown",
   "metadata": {},
   "source": [
    "The results indicate that support vector machine (SVM) and boosting tree models models are performant at an accuracy of ~87% and PR AUC of ~83%. The accuracy of these ML classifiers outperforms a null model with statistical significance (based on 95% confidence intervals indicated). We conclude that ***a predictive signal, with respect to predicting class status, is present in the available features $X$***."
   ]
  },
  {
   "cell_type": "code",
   "execution_count": 8,
   "metadata": {},
   "outputs": [
    {
     "name": "stdout",
     "output_type": "stream",
     "text": [
      "Acc 0.2923 (0.2730, 0.3104) \n",
      "F1 0.4518 (0.4306, 0.4747) \n",
      "AUC 0.6460 (0.6367, 0.6550) \n",
      "\n"
     ]
    }
   ],
   "source": [
    "_, y_true, _ = get_case_status_features_and_labels(data)\n",
    "y_pred = np.ones((y_true.size,))\n",
    "\n",
    "print(print_CI(y_pred, y_true))"
   ]
  },
  {
   "cell_type": "markdown",
   "metadata": {},
   "source": [
    "### Exploring the support vector machine"
   ]
  },
  {
   "cell_type": "markdown",
   "metadata": {},
   "source": [
    "Let's examine the support vector machine (SVM) model further. First we look at the hyperparameters selected across the five external cross-validation folds (each one selected by an internal cross-validation loop)."
   ]
  },
  {
   "cell_type": "code",
   "execution_count": 24,
   "metadata": {},
   "outputs": [
    {
     "data": {
      "text/plain": [
       "[{'C': 8.0, 'gamma': 3.0517578125e-05, 'kernel': 'rbf'},\n",
       " {'C': 8.0, 'gamma': 3.0517578125e-05, 'kernel': 'rbf'},\n",
       " {'C': 2.0, 'gamma': 3.0517578125e-05, 'kernel': 'rbf'},\n",
       " {'C': 2.0, 'gamma': 3.0517578125e-05, 'kernel': 'rbf'},\n",
       " {'C': 8.0, 'gamma': 3.0517578125e-05, 'kernel': 'rbf'}]"
      ]
     },
     "execution_count": 24,
     "metadata": {},
     "output_type": "execute_result"
    }
   ],
   "source": [
    "pickle.load( open( \"svm_params.txt\", \"rb\" ))"
   ]
  },
  {
   "cell_type": "markdown",
   "metadata": {},
   "source": [
    "We see the best hyperparameters are \n",
    "* `C = 8`\n",
    "* `gamma = 3.0517578125e-05`\n",
    "* `kernel = 'rbf'`\n",
    "\n",
    "The non-linear radial basis function (rbf) kernel makes it difficult to extract feature importance from the model, i.e. it is traditionally considered a ***black box model***.\n",
    "\n",
    "Let's attempt to train a linear SVM, which would permit analysis of feature importance."
   ]
  },
  {
   "cell_type": "code",
   "execution_count": 25,
   "metadata": {},
   "outputs": [],
   "source": [
    "def cv_linsvm(data):\n",
    "    X, y, _ = get_case_status_features_and_labels(data)\n",
    "    \n",
    "    # Cross-validation\n",
    "    kfold = StratifiedKFold(n_splits=5, shuffle=True, random_state=seed)\n",
    "    \n",
    "    # Default scorer is f1_score\n",
    "    scorer = make_scorer(f1_score)\n",
    "    \n",
    "    svm_pred = []\n",
    "    svm_params = []\n",
    "    truth_labels = []\n",
    "    k=1\n",
    "    for train, test in kfold.split(X, y):\n",
    "        print(\"******************* FOLD \" + str(k) + \" *******************\")\n",
    "        \n",
    "        #SVM\n",
    "        C_range = np.logspace(-5, 15, 11, base=2) #2^-5, 2^-3, ..., 2^15\n",
    "        parameters = {'C':C_range}\n",
    "        svm_model = svm.LinearSVC()\n",
    "        svm_final = GridSearchCV(svm_model, parameters, scoring=scorer, n_jobs=-1, cv=5, verbose=0)\n",
    "        svm_final.fit(X[train], y[train])\n",
    "        pred = svm_final.predict(X[test])\n",
    "        svm_params.append(svm_final.best_params_)\n",
    "        svm_pred.extend(pred)\n",
    "        \n",
    "        # Keep targets\n",
    "        truth_labels.extend(y[test])\n",
    "        \n",
    "        #Increment fold counter\n",
    "        k=k+1\n",
    "        \n",
    "    #Convert lists to numpy arrays\n",
    "    svm_pred = np.asarray(svm_pred)\n",
    "    truth_labels = np.asarray(truth_labels)\n",
    "    \n",
    "    # Create directory\n",
    "    directory = os.getcwd()\n",
    "    \n",
    "    #Print CIs to output file\n",
    "    print(print_CI(svm_pred, truth_labels))\n",
    "    \n",
    "    #Save lists of optimal parameters\n",
    "    import pickle\n",
    "    with open(os.path.join(directory, \"linsvm_params.txt\"), \"wb\") as fp:\n",
    "        pickle.dump(svm_params, fp)"
   ]
  },
  {
   "cell_type": "code",
   "execution_count": 26,
   "metadata": {},
   "outputs": [
    {
     "name": "stdout",
     "output_type": "stream",
     "text": [
      "******************* FOLD 1 *******************\n"
     ]
    },
    {
     "name": "stderr",
     "output_type": "stream",
     "text": [
      "C:\\ProgramData\\Anaconda3\\lib\\site-packages\\sklearn\\model_selection\\_search.py:814: DeprecationWarning: The default of the `iid` parameter will change from True to False in version 0.22 and will be removed in 0.24. This will change numeric results when test-set sizes are unequal.\n",
      "  DeprecationWarning)\n",
      "C:\\ProgramData\\Anaconda3\\lib\\site-packages\\sklearn\\svm\\base.py:929: ConvergenceWarning: Liblinear failed to converge, increase the number of iterations.\n",
      "  \"the number of iterations.\", ConvergenceWarning)\n"
     ]
    },
    {
     "name": "stdout",
     "output_type": "stream",
     "text": [
      "******************* FOLD 2 *******************\n"
     ]
    },
    {
     "name": "stderr",
     "output_type": "stream",
     "text": [
      "C:\\ProgramData\\Anaconda3\\lib\\site-packages\\sklearn\\model_selection\\_search.py:814: DeprecationWarning: The default of the `iid` parameter will change from True to False in version 0.22 and will be removed in 0.24. This will change numeric results when test-set sizes are unequal.\n",
      "  DeprecationWarning)\n",
      "C:\\ProgramData\\Anaconda3\\lib\\site-packages\\sklearn\\svm\\base.py:929: ConvergenceWarning: Liblinear failed to converge, increase the number of iterations.\n",
      "  \"the number of iterations.\", ConvergenceWarning)\n"
     ]
    },
    {
     "name": "stdout",
     "output_type": "stream",
     "text": [
      "******************* FOLD 3 *******************\n"
     ]
    },
    {
     "name": "stderr",
     "output_type": "stream",
     "text": [
      "C:\\ProgramData\\Anaconda3\\lib\\site-packages\\sklearn\\model_selection\\_search.py:814: DeprecationWarning: The default of the `iid` parameter will change from True to False in version 0.22 and will be removed in 0.24. This will change numeric results when test-set sizes are unequal.\n",
      "  DeprecationWarning)\n",
      "C:\\ProgramData\\Anaconda3\\lib\\site-packages\\sklearn\\svm\\base.py:929: ConvergenceWarning: Liblinear failed to converge, increase the number of iterations.\n",
      "  \"the number of iterations.\", ConvergenceWarning)\n"
     ]
    },
    {
     "name": "stdout",
     "output_type": "stream",
     "text": [
      "******************* FOLD 4 *******************\n"
     ]
    },
    {
     "name": "stderr",
     "output_type": "stream",
     "text": [
      "C:\\ProgramData\\Anaconda3\\lib\\site-packages\\sklearn\\model_selection\\_search.py:814: DeprecationWarning: The default of the `iid` parameter will change from True to False in version 0.22 and will be removed in 0.24. This will change numeric results when test-set sizes are unequal.\n",
      "  DeprecationWarning)\n",
      "C:\\ProgramData\\Anaconda3\\lib\\site-packages\\sklearn\\svm\\base.py:929: ConvergenceWarning: Liblinear failed to converge, increase the number of iterations.\n",
      "  \"the number of iterations.\", ConvergenceWarning)\n"
     ]
    },
    {
     "name": "stdout",
     "output_type": "stream",
     "text": [
      "******************* FOLD 5 *******************\n"
     ]
    },
    {
     "name": "stderr",
     "output_type": "stream",
     "text": [
      "C:\\ProgramData\\Anaconda3\\lib\\site-packages\\sklearn\\model_selection\\_search.py:814: DeprecationWarning: The default of the `iid` parameter will change from True to False in version 0.22 and will be removed in 0.24. This will change numeric results when test-set sizes are unequal.\n",
      "  DeprecationWarning)\n",
      "C:\\ProgramData\\Anaconda3\\lib\\site-packages\\sklearn\\svm\\base.py:929: ConvergenceWarning: Liblinear failed to converge, increase the number of iterations.\n",
      "  \"the number of iterations.\", ConvergenceWarning)\n"
     ]
    },
    {
     "name": "stdout",
     "output_type": "stream",
     "text": [
      "Acc 0.4586 (0.4384, 0.4789) \n",
      "F1 0.3920 (0.3652, 0.4191) \n",
      "AUC 0.5043 (0.4796, 0.5289) \n",
      "\n"
     ]
    }
   ],
   "source": [
    "cv_linsvm(data)"
   ]
  },
  {
   "cell_type": "markdown",
   "metadata": {},
   "source": [
    "The performance of the linear SVM model is low. We observe a tradeoff between transparency and performance, since the non-linear rbf kernel results in a performant model with limited interpretability."
   ]
  },
  {
   "cell_type": "markdown",
   "metadata": {},
   "source": [
    "### Exploring the gradient boosted tree classifier"
   ]
  },
  {
   "cell_type": "code",
   "execution_count": 27,
   "metadata": {},
   "outputs": [
    {
     "data": {
      "text/plain": [
       "[{'learning_rate': 1.0, 'max_depth': 2.0, 'n_estimators': 1000},\n",
       " {'learning_rate': 1.0, 'max_depth': 2.0, 'n_estimators': 1000},\n",
       " {'learning_rate': 1.0, 'max_depth': 3.0, 'n_estimators': 1000},\n",
       " {'learning_rate': 1.0, 'max_depth': 2.0, 'n_estimators': 1000},\n",
       " {'learning_rate': 1.0, 'max_depth': 2.0, 'n_estimators': 1000}]"
      ]
     },
     "execution_count": 27,
     "metadata": {},
     "output_type": "execute_result"
    }
   ],
   "source": [
    "pickle.load( open( \"boost_params.txt\", \"rb\" ))"
   ]
  },
  {
   "cell_type": "markdown",
   "metadata": {},
   "source": [
    "The ideal hyperparameters from the cross-validation experiment are:\n",
    "* `learning_rate = 1.0`\n",
    "* `max_depth = 2.0`\n",
    "* `n_estimators = 1000`\n",
    "\n",
    "We train a gradient boosted tree model on the full data set using these hyperparameters."
   ]
  },
  {
   "cell_type": "code",
   "execution_count": 28,
   "metadata": {},
   "outputs": [
    {
     "data": {
      "text/plain": [
       "GradientBoostingClassifier(criterion='friedman_mse', init=None,\n",
       "                           learning_rate=1.0, loss='deviance', max_depth=2.0,\n",
       "                           max_features=None, max_leaf_nodes=None,\n",
       "                           min_impurity_decrease=0.0, min_impurity_split=None,\n",
       "                           min_samples_leaf=1, min_samples_split=2,\n",
       "                           min_weight_fraction_leaf=0.0, n_estimators=1000,\n",
       "                           n_iter_no_change=None, presort='auto',\n",
       "                           random_state=None, subsample=1.0, tol=0.0001,\n",
       "                           validation_fraction=0.1, verbose=0,\n",
       "                           warm_start=False)"
      ]
     },
     "execution_count": 28,
     "metadata": {},
     "output_type": "execute_result"
    }
   ],
   "source": [
    "X, y, f_names = get_case_status_features_and_labels(data)\n",
    "boost_model = GradientBoostingClassifier(learning_rate=1.0, max_depth=2.0, n_estimators=1000)\n",
    "boost_model.fit(X,y)"
   ]
  },
  {
   "cell_type": "markdown",
   "metadata": {},
   "source": [
    "We introduce functions to visualize feature importance in this model."
   ]
  },
  {
   "cell_type": "code",
   "execution_count": 35,
   "metadata": {},
   "outputs": [],
   "source": [
    "def f_importances(coef, names):\n",
    "    imp = coef\n",
    "    imp,names = zip(*sorted(zip(imp,names)))\n",
    "    plt.barh(range(len(names)), imp, align='center')\n",
    "    plt.yticks(range(len(names)), names)\n",
    "    plt.xlabel(\"Feature importance\")\n",
    "    plt.savefig(\"imp.png\", dpi=400)\n",
    "    plt.show()\n",
    "\n",
    "def plot_importances(model_importances, f_names):\n",
    "    return f_importances(model_importances, f_names)"
   ]
  },
  {
   "cell_type": "code",
   "execution_count": 36,
   "metadata": {},
   "outputs": [
    {
     "data": {
      "image/png": "[encoded data removed]",
      "text/plain": [
       "<Figure size 432x288 with 1 Axes>"
      ]
     },
     "metadata": {
      "needs_background": "light"
     },
     "output_type": "display_data"
    }
   ],
   "source": [
    "plot_importances(boost_model.feature_importances_, f_names)"
   ]
  },
  {
   "cell_type": "markdown",
   "metadata": {},
   "source": [
    "The two strongest features are `dob` and `dob_season`."
   ]
  },
  {
   "cell_type": "markdown",
   "metadata": {},
   "source": [
    "### Relationship between date of birth and case status"
   ]
  },
  {
   "cell_type": "markdown",
   "metadata": {},
   "source": [
    "The gradient boosted tree model suggested that `dob` has an impact on case status. Let's explore the relationship between these variables. First we will compute the (future) case prevalance for each cohort of patients born in the same month."
   ]
  },
  {
   "cell_type": "code",
   "execution_count": 10,
   "metadata": {},
   "outputs": [],
   "source": [
    "\"\"\"\n",
    "Create a new dataframe, create column for year, month, and week number.\n",
    "\"\"\"\n",
    "df = pd.read_csv(\"data.csv\")\n",
    "\n",
    "for i in range(len(df['dob'])):\n",
    "    item = df['dob'][i]\n",
    "    if isinstance(item, str):\n",
    "        dt = datetime.strptime(df['dob'][i], '%Y-%m-%d')\n",
    "        df['dob'][i] = dt\n",
    "\n",
    "\n",
    "df['year'] = df['dob'].dt.year\n",
    "df['month'] = df['dob'].dt.month\n",
    "\n",
    "\"\"\"\n",
    "Maintain a dictionary of the form:\n",
    "    dict[year] = [list1, list2]\n",
    "\n",
    "where list1 is a list of case counts in each of the 12 months, and list2 is a\n",
    "similar list of counts of non-cases.\n",
    "\"\"\"\n",
    "dict = {}\n",
    "for i in range(len(df['dob'])):\n",
    "    if np.isnan(df['month'][i])==False and np.isnan(df['year'][i])==False:\n",
    "        y = int(df['year'][i])\n",
    "        m = int(df['month'][i])-1\n",
    "        \n",
    "        if y in dict:\n",
    "            if df['case'][i] == 1:\n",
    "                cases = dict[y][0]\n",
    "                cases[m] += 1\n",
    "            \n",
    "            else:\n",
    "                not_cases = dict[y][1]\n",
    "                not_cases[m] += 1\n",
    "                    \n",
    "        else:\n",
    "            dict[y] = [np.zeros((12,), dtype='int'), np.zeros((12,), dtype='int')]\n",
    "\n",
    "\"\"\"\n",
    "Use the dictionary to calculate the monthly case prevalance.\n",
    "    x_vals - represents a string of the form year-month designating the patient's date of birth\n",
    "    y_vals - eventual case prevalance for all patients born in the corresponding year and month\n",
    "\"\"\"\n",
    "y_vals = []\n",
    "x_vals = []\n",
    "for year in dict.keys():\n",
    "    cases = dict[year][0]\n",
    "    not_cases = dict[year][1]\n",
    "    \n",
    "    for month in range(12):\n",
    "        c = cases[month]\n",
    "        nc = not_cases[month]\n",
    "        if c == 0 and nc == 0:\n",
    "            freq = float('NaN')\n",
    "        else:\n",
    "            freq = c /(c + nc)        \n",
    "        y_vals.append(freq)\n",
    "        string = str(year)+\"-\"+str(month+1).zfill(2)\n",
    "        x_vals.append(datetime.strptime(string, \"%Y-%m\"))"
   ]
  },
  {
   "cell_type": "code",
   "execution_count": 11,
   "metadata": {},
   "outputs": [
    {
     "data": {
      "image/png": "[encoded data removed]",
      "text/plain": [
       "<Figure size 432x288 with 1 Axes>"
      ]
     },
     "metadata": {
      "needs_background": "light"
     },
     "output_type": "display_data"
    }
   ],
   "source": [
    "\"\"\"\n",
    "Visualize the data\n",
    "\"\"\" \n",
    "x, y = zip(*sorted(zip(x_vals,y_vals)))\n",
    "\n",
    "fig, ax = plt.subplots()       \n",
    "plt.plot(x, y)\n",
    "ax.grid()\n",
    "ax.set(xlabel='Date of birth', ylabel='Case prevalence')\n",
    "plt.show()\n",
    "fig.savefig(\"vis.png\", dpi=400)\n",
    "plt.close()"
   ]
  },
  {
   "cell_type": "markdown",
   "metadata": {},
   "source": [
    "Suprisingly, there is a unique historical relationship between `dob` and eventual case prevalence, in which all patients born prior to 2001 presented as atopy cases, as did all patients born after 2013 in this data set. Put differently, there are no controls born prior to 2001 or after 2013. This unusual historical pattern is likely to account for most of the importance this feature."
   ]
  },
  {
   "cell_type": "markdown",
   "metadata": {},
   "source": [
    "### Repeating the experiment without date of birth"
   ]
  },
  {
   "cell_type": "markdown",
   "metadata": {},
   "source": [
    "It is conceivable that there is signal in `dob` beyond the thresholded historical pattern indicated by the previous analysis, such as seasonality within the intervening time frame. The `dob_season` is after all the second most important feature in the gradient boosted tree model. Therefore, it makes sense to remove `dob` from $X$ and see if there is predictive signal in the remaining features."
   ]
  },
  {
   "cell_type": "code",
   "execution_count": 39,
   "metadata": {},
   "outputs": [
    {
     "name": "stdout",
     "output_type": "stream",
     "text": [
      "******************* FOLD 1 *******************\n"
     ]
    },
    {
     "name": "stderr",
     "output_type": "stream",
     "text": [
      "C:\\ProgramData\\Anaconda3\\lib\\site-packages\\sklearn\\linear_model\\logistic.py:432: FutureWarning: Default solver will be changed to 'lbfgs' in 0.22. Specify a solver to silence this warning.\n",
      "  FutureWarning)\n"
     ]
    },
    {
     "name": "stdout",
     "output_type": "stream",
     "text": [
      "******************* FOLD 2 *******************\n"
     ]
    },
    {
     "name": "stderr",
     "output_type": "stream",
     "text": [
      "C:\\ProgramData\\Anaconda3\\lib\\site-packages\\sklearn\\model_selection\\_search.py:814: DeprecationWarning: The default of the `iid` parameter will change from True to False in version 0.22 and will be removed in 0.24. This will change numeric results when test-set sizes are unequal.\n",
      "  DeprecationWarning)\n",
      "C:\\ProgramData\\Anaconda3\\lib\\site-packages\\sklearn\\linear_model\\logistic.py:432: FutureWarning: Default solver will be changed to 'lbfgs' in 0.22. Specify a solver to silence this warning.\n",
      "  FutureWarning)\n"
     ]
    },
    {
     "name": "stdout",
     "output_type": "stream",
     "text": [
      "******************* FOLD 3 *******************\n"
     ]
    },
    {
     "name": "stderr",
     "output_type": "stream",
     "text": [
      "C:\\ProgramData\\Anaconda3\\lib\\site-packages\\sklearn\\linear_model\\logistic.py:432: FutureWarning: Default solver will be changed to 'lbfgs' in 0.22. Specify a solver to silence this warning.\n",
      "  FutureWarning)\n"
     ]
    },
    {
     "name": "stdout",
     "output_type": "stream",
     "text": [
      "******************* FOLD 4 *******************\n"
     ]
    },
    {
     "name": "stderr",
     "output_type": "stream",
     "text": [
      "C:\\ProgramData\\Anaconda3\\lib\\site-packages\\sklearn\\model_selection\\_search.py:814: DeprecationWarning: The default of the `iid` parameter will change from True to False in version 0.22 and will be removed in 0.24. This will change numeric results when test-set sizes are unequal.\n",
      "  DeprecationWarning)\n",
      "C:\\ProgramData\\Anaconda3\\lib\\site-packages\\sklearn\\linear_model\\logistic.py:432: FutureWarning: Default solver will be changed to 'lbfgs' in 0.22. Specify a solver to silence this warning.\n",
      "  FutureWarning)\n"
     ]
    },
    {
     "name": "stdout",
     "output_type": "stream",
     "text": [
      "******************* FOLD 5 *******************\n"
     ]
    },
    {
     "name": "stderr",
     "output_type": "stream",
     "text": [
      "C:\\ProgramData\\Anaconda3\\lib\\site-packages\\sklearn\\linear_model\\logistic.py:432: FutureWarning: Default solver will be changed to 'lbfgs' in 0.22. Specify a solver to silence this warning.\n",
      "  FutureWarning)\n"
     ]
    },
    {
     "name": "stdout",
     "output_type": "stream",
     "text": [
      "*******************SVM*******************\n",
      "\n",
      "Acc 0.6710 (0.6514, 0.6901) \n",
      "F1 0.4437 (0.4100, 0.4767) \n",
      "AUC 0.5239 (0.4949, 0.5548) \n",
      "\n",
      "*******************RF********************\n",
      "\n",
      "Acc 0.7422 (0.7234, 0.7603) \n",
      "F1 0.5339 (0.5008, 0.5663) \n",
      "AUC 0.6080 (0.5762, 0.6386) \n",
      "\n",
      "*******************Tree******************\n",
      "\n",
      "Acc 0.7052 (0.6870, 0.7234) \n",
      "F1 0.4839 (0.4494, 0.5164) \n",
      "AUC 0.5610 (0.5304, 0.5919) \n",
      "\n",
      "*******************Bagging***************\n",
      "\n",
      "Acc 0.7325 (0.7141, 0.7514) \n",
      "F1 0.5322 (0.4980, 0.5650) \n",
      "AUC 0.6031 (0.5704, 0.6320) \n",
      "\n",
      "*******************Boosting**************\n",
      "\n",
      "Acc 0.7350 (0.7172, 0.7523) \n",
      "F1 0.5319 (0.4967, 0.5635) \n",
      "AUC 0.6040 (0.5728, 0.6350) \n",
      "\n",
      "*******************LR********************\n",
      "\n"
     ]
    },
    {
     "name": "stderr",
     "output_type": "stream",
     "text": [
      "C:\\ProgramData\\Anaconda3\\lib\\site-packages\\sklearn\\metrics\\classification.py:1437: UndefinedMetricWarning: F-score is ill-defined and being set to 0.0 due to no predicted samples.\n",
      "  'precision', 'predicted', average, warn_for)\n"
     ]
    },
    {
     "name": "stdout",
     "output_type": "stream",
     "text": [
      "Acc 0.7079 (0.6883, 0.7274) \n",
      "F1 0.0000 (0.0000, 0.0000) \n",
      "AUC 0.6460 (0.6367, 0.6552) \n",
      "\n"
     ]
    }
   ],
   "source": [
    "experiment2(data, drop_dob = True)"
   ]
  },
  {
   "cell_type": "markdown",
   "metadata": {},
   "source": [
    "We observe a marked drop in the performance of all models, with most of the performance scores now dropping below those of the baseline classifier. For several of the tree-based ensemble approaches, the F1-score is significantly higher than baseline, but this is not true for the PR AUC."
   ]
  },
  {
   "cell_type": "markdown",
   "metadata": {},
   "source": [
    "### Summary: Predicting case vs. control"
   ]
  },
  {
   "cell_type": "markdown",
   "metadata": {},
   "source": [
    "We conclude that ***the majority, if not all, of the predictive signal relevant to CAD case vs. control prediction is in the unique historical pattern of the `dob` feature.***"
   ]
  }
 ],
 "metadata": {
  "kernelspec": {
   "display_name": "Python 3",
   "language": "python",
   "name": "python3"
  },
  "language_info": {
   "codemirror_mode": {
    "name": "ipython",
    "version": 3
   },
   "file_extension": ".py",
   "mimetype": "text/x-python",
   "name": "python",
   "nbconvert_exporter": "python",
   "pygments_lexer": "ipython3",
   "version": "3.7.0"
  }
 },
 "nbformat": 4,
 "nbformat_minor": 2
}
